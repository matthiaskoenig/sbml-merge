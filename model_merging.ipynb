{
 "cells": [
  {
   "cell_type": "markdown",
   "metadata": {},
   "source": [
    "# Merging SBML files\n",
    "The notebook demonstrates how to merge SBML files with `python-libsbml`.\n",
    "This project is deprecated, and now part of the functionality of [`sbmlutils`](https://github.com/matthiaskoenig/sbmlutils)."
   ]
  },
  {
   "cell_type": "markdown",
   "metadata": {},
   "source": [
    "## Define helper functions"
   ]
  },
  {
   "cell_type": "code",
   "execution_count": 1,
   "metadata": {},
   "outputs": [],
   "source": [
    "%load_ext autoreload\n",
    "%autoreload 2"
   ]
  },
  {
   "cell_type": "code",
   "execution_count": 2,
   "metadata": {},
   "outputs": [],
   "source": [
    "import sys\n",
    "import os\n",
    "from pprint import pprint\n",
    "import libsbml\n",
    "\n",
    "from sbmlmerge import *"
   ]
  },
  {
   "cell_type": "markdown",
   "metadata": {},
   "source": [
    "## Merging models\n",
    "The models have have to be provided as a id:path dictionary."
   ]
  },
  {
   "cell_type": "code",
   "execution_count": 3,
   "metadata": {},
   "outputs": [
    {
     "name": "stdout",
     "output_type": "stream",
     "text": [
      "********************************************************************************\n",
      "Models to merge:\n",
      "********************************************************************************\n",
      "{'BIOMD0000000001': 'models/BIOMD0000000001.xml',\n",
      " 'BIOMD0000000002': 'models/BIOMD0000000002.xml',\n",
      " 'BIOMD0000000003': 'models/BIOMD0000000003.xml',\n",
      " 'BIOMD0000000004': 'models/BIOMD0000000004.xml'}\n",
      "********************************************************************************\n",
      "\n",
      "********************************************************************************\n",
      "Merged models:\n",
      "********************************************************************************\n",
      "--> results/combined_model.xml\n",
      "--> results/combined_model_flat.xml\n",
      "********************************************************************************\n"
     ]
    }
   ],
   "source": [
    "# dictionary of ids & paths of models which should be combined\n",
    "# here we just bring together the first Biomodels\n",
    "model_ids = [\"BIOMD000000000{}\".format(k) for k in range(1,5)]\n",
    "model_paths = dict(zip(model_ids, [os.path.join(\"models\", \"{}.xml\".format(mid)) for mid in model_ids]))\n",
    "\n",
    "print('*' * 80)\n",
    "print('Models to merge:')\n",
    "print('*' * 80)\n",
    "pprint(model_paths)\n",
    "print('*' * 80)\n",
    "\n",
    "# necessary to convert models SBML Level 2 models (L2) to to SBML Level 3 Version 1 (L3V1)\n",
    "for mid, path in model_paths.items():\n",
    "    path_L3 = os.path.join(\"results\", \"{}_L3.xml\".format(mid))  \n",
    "    doc = libsbml.readSBMLFromFile(path)  # type: libsbml.SBMLDocument\n",
    "    if doc.getLevel()<3:\n",
    "        doc.setLevelAndVersion(3, 1)\n",
    "    libsbml.writeSBMLToFile(doc, path_L3)\n",
    "    model_paths[mid] = path_L3\n",
    "\n",
    "\n",
    "# create comp model\n",
    "doc = create_comp(model_paths)\n",
    "\n",
    "###########\n",
    "# Now you have to define the replacements and replacedBy, ports, ...\n",
    "# i.e. you want to map components. \n",
    "# Your question is only about bringing in one model which the code\n",
    "# is doing. The interfaces you have to write still.\n",
    "###########\n",
    "\n",
    "print()\n",
    "print('*' * 80)\n",
    "print('Merged models:')\n",
    "print('*' * 80)\n",
    "\n",
    "# write comp model\n",
    "f_doc = 'results/combined_model.xml'\n",
    "libsbml.writeSBMLToFile(doc, f_doc)\n",
    "print('-->', f_doc)\n",
    "\n",
    "# flatten the model\n",
    "f_doc_flat = 'results/combined_model_flat.xml'\n",
    "doc_flat = flattenSBMLDocument(doc)  # type: libsbml.SBMLDocument\n",
    "libsbml.writeSBMLToFile(doc_flat, f_doc_flat);\n",
    "print('-->', f_doc_flat)\n",
    "\n",
    "print('*' * 80)"
   ]
  },
  {
   "cell_type": "code",
   "execution_count": null,
   "metadata": {
    "collapsed": true,
    "jupyter": {
     "outputs_hidden": true
    }
   },
   "outputs": [],
   "source": []
  }
 ],
 "metadata": {
  "kernelspec": {
   "display_name": "sbml-merge",
   "language": "python",
   "name": "sbml-merge"
  },
  "language_info": {
   "codemirror_mode": {
    "name": "ipython",
    "version": 3
   },
   "file_extension": ".py",
   "mimetype": "text/x-python",
   "name": "python",
   "nbconvert_exporter": "python",
   "pygments_lexer": "ipython3",
   "version": "3.5.2"
  }
 },
 "nbformat": 4,
 "nbformat_minor": 4
}
